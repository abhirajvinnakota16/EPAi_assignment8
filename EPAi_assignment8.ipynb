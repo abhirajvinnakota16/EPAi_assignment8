{
 "cells": [
  {
   "cell_type": "markdown",
   "metadata": {},
   "source": [
    "Write a closure that takes a function and then check whether the function passed \n",
    "has a docstring with more than 50 characters. 50 is stored as a free variable - 200\n",
    "\n",
    "Write a closure that gives you the next Fibonacci number - 100\n",
    "\n",
    "We wrote a closure that counts how many times a function was called. Write a new one \n",
    "that can keep a track of how many times add/mul/div functions were called, and update \n",
    "a global dictionary variable with the counts - 250\n",
    "\n",
    "Modify above such that now we can pass in different dictionary variables to update \n",
    "different dictionaries - 250\n",
    "\n",
    "No readme or no docstring for each function, or no test cases, 0. Write test cases to \n",
    "check boundary conditions that might cause your code to fail. "
   ]
  },
  {
   "cell_type": "code",
   "execution_count": 163,
   "metadata": {},
   "outputs": [],
   "source": [
    "def doc_string_length(l = 50):\n",
    "    '''This function helps in checking if a particular funcs docstring is greater than 50 characters (default value). The variable 'l' that paramterizes the length that needs to be checked for can be defined by the user while initializing the function '''\n",
    "\n",
    "    def check (func):\n",
    "        nonlocal l \n",
    "        string = func.__doc__\n",
    "        if string is None:\n",
    "            print(\"Doc string is none\")\n",
    "        else:\n",
    "            if (l > len(string)):\n",
    "                print(\"Doc string is less than {} characters\".format(l))\n",
    "            else:\n",
    "                print(\"Doc string is more than {} characters\".format(l))\n",
    "        return\n",
    "    return check\n"
   ]
  },
  {
   "cell_type": "code",
   "execution_count": 162,
   "metadata": {},
   "outputs": [],
   "source": [
    "def fibonacci():\n",
    "    ''' This function helps return the next fibonacci function each time it is called. When initialized, the first 2 values get declared, based on which the next() function [i.e, returned by the function] calculates the next number'''\n",
    "    \n",
    "    last = 1\n",
    "    second_last = 0\n",
    "    count = 0\n",
    "    def next ():\n",
    "        nonlocal last\n",
    "        nonlocal second_last\n",
    "        nonlocal count\n",
    "        if count == 0:\n",
    "            count += 1\n",
    "            return 0\n",
    "        if count == 1:\n",
    "            count += 1\n",
    "            return 1\n",
    "        else:\n",
    "            count += 1\n",
    "            new = last + second_last\n",
    "            second_last = last\n",
    "            last = new\n",
    "            return new\n",
    "    return next"
   ]
  },
  {
   "cell_type": "code",
   "execution_count": 60,
   "metadata": {
    "tags": []
   },
   "outputs": [
    {
     "output_type": "stream",
     "name": "stdout",
     "text": "89\n"
    }
   ],
   "source": [
    "fib = fibonacci()\n",
    "for i in range(10):\n",
    "    fib()\n",
    "print(fib())"
   ]
  },
  {
   "cell_type": "code",
   "execution_count": 61,
   "metadata": {
    "tags": []
   },
   "outputs": [
    {
     "output_type": "stream",
     "name": "stdout",
     "text": "[1, 1, 2, 3, 5, 8, 13, 21, 34, 55]\n"
    }
   ],
   "source": [
    "fib = fibonacci()\n",
    "list1 =[]\n",
    "for i in range(10):\n",
    "    list1.append(fib())\n",
    "print(list1)"
   ]
  },
  {
   "cell_type": "code",
   "execution_count": 62,
   "metadata": {
    "tags": []
   },
   "outputs": [
    {
     "output_type": "stream",
     "name": "stdout",
     "text": "1 1\n"
    }
   ],
   "source": []
  },
  {
   "cell_type": "code",
   "execution_count": 188,
   "metadata": {},
   "outputs": [],
   "source": [
    "def add(a,b):\n",
    "    return a+b\n",
    "def mul(a,b):\n",
    "    return a*b\n",
    "def div(a,b):\n",
    "    return a/b\n",
    "\n",
    "glo_dict = {'add': 0, 'mul': 0, 'div': 0}\n",
    "\n",
    "def func_counter():\n",
    "    ''' This function uses a global dictionary to count the number of times a particular function has been called. This function only tracks the 'add', 'sub' and 'div' function. The tracked numbers are stored in a global dictionary that is commonly available to any instance of this function'''\n",
    "    def count(func):\n",
    "        global glo_dict\n",
    "        if callable(func) == False:\n",
    "            return 'Not a function'\n",
    "        else:\n",
    "            if func.__name__ in glo_dict:\n",
    "                glo_dict[func.__name__] += 1\n",
    "            else:\n",
    "                return 'Not a valid function'\n",
    "    return count\n"
   ]
  },
  {
   "cell_type": "code",
   "execution_count": 193,
   "metadata": {},
   "outputs": [
    {
     "output_type": "error",
     "ename": "SyntaxError",
     "evalue": "invalid syntax (<ipython-input-193-9d76b382bece>, line 1)",
     "traceback": [
      "\u001b[0;36m  File \u001b[0;32m\"<ipython-input-193-9d76b382bece>\"\u001b[0;36m, line \u001b[0;32m1\u001b[0m\n\u001b[0;31m    first instance\u001b[0m\n\u001b[0m          ^\u001b[0m\n\u001b[0;31mSyntaxError\u001b[0m\u001b[0;31m:\u001b[0m invalid syntax\n"
     ]
    }
   ],
   "source": []
  },
  {
   "cell_type": "code",
   "execution_count": 169,
   "metadata": {},
   "outputs": [],
   "source": [
    "\n",
    "def func_counter1(dict_var):\n",
    "    ''' This function is based of the previous function. However, this function accepts a dictionary from the user when initialized. It returns a function count which then tracks the number of times the 'add/sub/div' function is called. Each time it is called, the updated dictionary is returned. If another function that is not add/mul/div is sent, then func will return saying it is not a valid function'''\n",
    "\n",
    "    def count(func):\n",
    "        nonlocal dict_var\n",
    "        if callable(func) == False:\n",
    "            return 'Not a function'\n",
    "        else:\n",
    "            if func.__name__ in dict_var:\n",
    "                dict_var[func.__name__] += 1\n",
    "                return dict_var\n",
    "            elif (func.__name__  == 'add' or func.__name__ == 'mul' or func.__name__  == 'div'):\n",
    "                dict_var[func.__name__] = 1\n",
    "                return dict_var\n",
    "            else:\n",
    "                return 'Not a valid function'\n",
    "    return count\n"
   ]
  },
  {
   "cell_type": "code",
   "execution_count": null,
   "metadata": {},
   "outputs": [],
   "source": []
  }
 ],
 "metadata": {
  "hide_input": false,
  "kernelspec": {
   "display_name": "Python 3",
   "language": "python",
   "name": "python3"
  }
 },
 "nbformat": 4,
 "nbformat_minor": 4
}